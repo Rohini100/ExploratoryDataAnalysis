{
 "cells": [
  {
   "cell_type": "code",
   "execution_count": 1,
   "id": "b04f7e0c",
   "metadata": {},
   "outputs": [],
   "source": [
    "import numpy as np\n",
    "import pandas as pd\n",
    "import matplotlib.pyplot as plt\n",
    "import seaborn as sns\n",
    "plt.style.use('dark_background')"
   ]
  },
  {
   "cell_type": "code",
   "execution_count": 2,
   "id": "0428886d",
   "metadata": {},
   "outputs": [],
   "source": [
    "cred_df=pd.read_csv(r'C:\\Users\\Asus\\Downloads\\credits.csv')"
   ]
  },
  {
   "cell_type": "code",
   "execution_count": 3,
   "id": "e1635af4",
   "metadata": {},
   "outputs": [],
   "source": [
    "title_df=pd.read_csv(r'C:\\Users\\Asus\\Downloads\\titles.csv')"
   ]
  },
  {
   "cell_type": "markdown",
   "id": "434460fc",
   "metadata": {},
   "source": [
    "#Explore Credit dataset"
   ]
  },
  {
   "cell_type": "code",
   "execution_count": 4,
   "id": "3e4af406",
   "metadata": {},
   "outputs": [
    {
     "name": "stdout",
     "output_type": "stream",
     "text": [
      "<class 'pandas.core.frame.DataFrame'>\n",
      "RangeIndex: 124235 entries, 0 to 124234\n",
      "Data columns (total 5 columns):\n",
      " #   Column     Non-Null Count   Dtype \n",
      "---  ------     --------------   ----- \n",
      " 0   person_id  124235 non-null  int64 \n",
      " 1   id         124235 non-null  object\n",
      " 2   name       124235 non-null  object\n",
      " 3   character  107948 non-null  object\n",
      " 4   role       124235 non-null  object\n",
      "dtypes: int64(1), object(4)\n",
      "memory usage: 4.7+ MB\n"
     ]
    }
   ],
   "source": [
    "cred_df.info()"
   ]
  },
  {
   "cell_type": "code",
   "execution_count": null,
   "id": "e31307a8",
   "metadata": {},
   "outputs": [],
   "source": [
    "#calculate the %of missing data"
   ]
  },
  {
   "cell_type": "code",
   "execution_count": 10,
   "id": "9a6ae820",
   "metadata": {},
   "outputs": [
    {
     "data": {
      "text/plain": [
       "person_id    0.0\n",
       "id           0.0\n",
       "name         0.0\n",
       "character    0.0\n",
       "role         0.0\n",
       "dtype: float64"
      ]
     },
     "execution_count": 10,
     "metadata": {},
     "output_type": "execute_result"
    }
   ],
   "source": [
    "round(100*(cred_df.isnull().sum()/len(cred_df.index)),2).sort_values(ascending=False)"
   ]
  },
  {
   "cell_type": "code",
   "execution_count": 9,
   "id": "5775ecb9",
   "metadata": {},
   "outputs": [],
   "source": [
    "#character has 13% missing values. So let's add the null values with 'Not defined'\n",
    "cred_df['character'].replace(np.nan,'Not defined',inplace=True)"
   ]
  },
  {
   "cell_type": "code",
   "execution_count": 15,
   "id": "5fcb0e84",
   "metadata": {},
   "outputs": [
    {
     "data": {
      "text/plain": [
       "0"
      ]
     },
     "execution_count": 15,
     "metadata": {},
     "output_type": "execute_result"
    }
   ],
   "source": [
    "#Check for duplicates\n",
    "cred_df.duplicated().sum()"
   ]
  },
  {
   "cell_type": "code",
   "execution_count": 14,
   "id": "657da127",
   "metadata": {},
   "outputs": [],
   "source": [
    "cred_df.drop_duplicates(inplace=True)"
   ]
  },
  {
   "cell_type": "code",
   "execution_count": null,
   "id": "bfc0e565",
   "metadata": {},
   "outputs": [],
   "source": [
    "#Explore Title dataset\n"
   ]
  },
  {
   "cell_type": "code",
   "execution_count": 17,
   "id": "68232afb",
   "metadata": {},
   "outputs": [
    {
     "name": "stdout",
     "output_type": "stream",
     "text": [
      "<class 'pandas.core.frame.DataFrame'>\n",
      "RangeIndex: 9871 entries, 0 to 9870\n",
      "Data columns (total 15 columns):\n",
      " #   Column                Non-Null Count  Dtype  \n",
      "---  ------                --------------  -----  \n",
      " 0   id                    9871 non-null   object \n",
      " 1   title                 9871 non-null   object \n",
      " 2   type                  9871 non-null   object \n",
      " 3   description           9752 non-null   object \n",
      " 4   release_year          9871 non-null   int64  \n",
      " 5   age_certification     3384 non-null   object \n",
      " 6   runtime               9871 non-null   int64  \n",
      " 7   genres                9871 non-null   object \n",
      " 8   production_countries  9871 non-null   object \n",
      " 9   seasons               1357 non-null   float64\n",
      " 10  imdb_id               9204 non-null   object \n",
      " 11  imdb_score            8850 non-null   float64\n",
      " 12  imdb_votes            8840 non-null   float64\n",
      " 13  tmdb_popularity       9324 non-null   float64\n",
      " 14  tmdb_score            7789 non-null   float64\n",
      "dtypes: float64(5), int64(2), object(8)\n",
      "memory usage: 1.1+ MB\n"
     ]
    }
   ],
   "source": [
    "title_df.info()"
   ]
  },
  {
   "cell_type": "code",
   "execution_count": null,
   "id": "7d6abc6e",
   "metadata": {},
   "outputs": [],
   "source": [
    "#lets calcualte the % of missing(nulls) for each col"
   ]
  },
  {
   "cell_type": "code",
   "execution_count": 18,
   "id": "4a55619d",
   "metadata": {},
   "outputs": [
    {
     "data": {
      "text/plain": [
       "seasons                 86.25\n",
       "age_certification       65.72\n",
       "tmdb_score              21.09\n",
       "imdb_votes              10.44\n",
       "imdb_score              10.34\n",
       "imdb_id                  6.76\n",
       "tmdb_popularity          5.54\n",
       "description              1.21\n",
       "id                       0.00\n",
       "title                    0.00\n",
       "type                     0.00\n",
       "release_year             0.00\n",
       "runtime                  0.00\n",
       "genres                   0.00\n",
       "production_countries     0.00\n",
       "dtype: float64"
      ]
     },
     "execution_count": 18,
     "metadata": {},
     "output_type": "execute_result"
    }
   ],
   "source": [
    "round(100*title_df.isnull().sum()/len(title_df.index),2).sort_values(ascending=False)"
   ]
  },
  {
   "cell_type": "code",
   "execution_count": null,
   "id": "bae4fa7e",
   "metadata": {},
   "outputs": [],
   "source": [
    "#seasons and age_certificationss has more than 60% missing data. So dropping them would be better approach"
   ]
  },
  {
   "cell_type": "code",
   "execution_count": 20,
   "id": "9ac94c2c",
   "metadata": {},
   "outputs": [],
   "source": [
    "title_df = title_df.drop(columns = ['seasons', 'age_certification'])"
   ]
  },
  {
   "cell_type": "code",
   "execution_count": 21,
   "id": "1bada439",
   "metadata": {},
   "outputs": [],
   "source": [
    "# impute values rest of the null columns\n",
    "title_df['tmdb_score'] = title_df['tmdb_score'].fillna(title_df['tmdb_score'].mode()[0])\n",
    "title_df['imdb_votes'] = title_df['imdb_votes'].fillna(title_df['imdb_votes'].mode()[0])\n",
    "title_df['imdb_score'] = title_df['imdb_score'].fillna(title_df['imdb_score'].mode()[0])\n",
    "title_df['tmdb_popularity'] = title_df['tmdb_popularity'].fillna(title_df['tmdb_popularity'].mode()[0])\n",
    "title_df['imdb_id'].replace(np.nan, 'No Data',inplace  = True)\n",
    "title_df['description'].replace(np.nan, 'No Data',inplace  = True)"
   ]
  },
  {
   "cell_type": "code",
   "execution_count": 22,
   "id": "030bcc05",
   "metadata": {
    "scrolled": true
   },
   "outputs": [
    {
     "name": "stdout",
     "output_type": "stream",
     "text": [
      "<class 'pandas.core.frame.DataFrame'>\n",
      "RangeIndex: 9871 entries, 0 to 9870\n",
      "Data columns (total 13 columns):\n",
      " #   Column                Non-Null Count  Dtype  \n",
      "---  ------                --------------  -----  \n",
      " 0   id                    9871 non-null   object \n",
      " 1   title                 9871 non-null   object \n",
      " 2   type                  9871 non-null   object \n",
      " 3   description           9871 non-null   object \n",
      " 4   release_year          9871 non-null   int64  \n",
      " 5   runtime               9871 non-null   int64  \n",
      " 6   genres                9871 non-null   object \n",
      " 7   production_countries  9871 non-null   object \n",
      " 8   imdb_id               9871 non-null   object \n",
      " 9   imdb_score            9871 non-null   float64\n",
      " 10  imdb_votes            9871 non-null   float64\n",
      " 11  tmdb_popularity       9871 non-null   float64\n",
      " 12  tmdb_score            9871 non-null   float64\n",
      "dtypes: float64(4), int64(2), object(7)\n",
      "memory usage: 1002.6+ KB\n"
     ]
    }
   ],
   "source": [
    "title_df.info()"
   ]
  },
  {
   "cell_type": "code",
   "execution_count": 23,
   "id": "9ee31d03",
   "metadata": {},
   "outputs": [
    {
     "data": {
      "text/html": [
       "<div>\n",
       "<style scoped>\n",
       "    .dataframe tbody tr th:only-of-type {\n",
       "        vertical-align: middle;\n",
       "    }\n",
       "\n",
       "    .dataframe tbody tr th {\n",
       "        vertical-align: top;\n",
       "    }\n",
       "\n",
       "    .dataframe thead th {\n",
       "        text-align: right;\n",
       "    }\n",
       "</style>\n",
       "<table border=\"1\" class=\"dataframe\">\n",
       "  <thead>\n",
       "    <tr style=\"text-align: right;\">\n",
       "      <th></th>\n",
       "      <th>id</th>\n",
       "      <th>title</th>\n",
       "      <th>type</th>\n",
       "      <th>description</th>\n",
       "      <th>release_year</th>\n",
       "      <th>runtime</th>\n",
       "      <th>genres</th>\n",
       "      <th>production_countries</th>\n",
       "      <th>imdb_id</th>\n",
       "      <th>imdb_score</th>\n",
       "      <th>imdb_votes</th>\n",
       "      <th>tmdb_popularity</th>\n",
       "      <th>tmdb_score</th>\n",
       "    </tr>\n",
       "  </thead>\n",
       "  <tbody>\n",
       "    <tr>\n",
       "      <th>0</th>\n",
       "      <td>ts20945</td>\n",
       "      <td>The Three Stooges</td>\n",
       "      <td>SHOW</td>\n",
       "      <td>The Three Stooges were an American vaudeville ...</td>\n",
       "      <td>1934</td>\n",
       "      <td>19</td>\n",
       "      <td>['comedy', 'family', 'animation', 'action', 'f...</td>\n",
       "      <td>['US']</td>\n",
       "      <td>tt0850645</td>\n",
       "      <td>8.6</td>\n",
       "      <td>1092.0</td>\n",
       "      <td>15.424</td>\n",
       "      <td>7.6</td>\n",
       "    </tr>\n",
       "    <tr>\n",
       "      <th>1</th>\n",
       "      <td>tm19248</td>\n",
       "      <td>The General</td>\n",
       "      <td>MOVIE</td>\n",
       "      <td>During America’s Civil War, Union spies steal ...</td>\n",
       "      <td>1926</td>\n",
       "      <td>78</td>\n",
       "      <td>['action', 'drama', 'war', 'western', 'comedy'...</td>\n",
       "      <td>['US']</td>\n",
       "      <td>tt0017925</td>\n",
       "      <td>8.2</td>\n",
       "      <td>89766.0</td>\n",
       "      <td>8.647</td>\n",
       "      <td>8.0</td>\n",
       "    </tr>\n",
       "    <tr>\n",
       "      <th>2</th>\n",
       "      <td>tm82253</td>\n",
       "      <td>The Best Years of Our Lives</td>\n",
       "      <td>MOVIE</td>\n",
       "      <td>It's the hope that sustains the spirit of ever...</td>\n",
       "      <td>1946</td>\n",
       "      <td>171</td>\n",
       "      <td>['romance', 'war', 'drama']</td>\n",
       "      <td>['US']</td>\n",
       "      <td>tt0036868</td>\n",
       "      <td>8.1</td>\n",
       "      <td>63026.0</td>\n",
       "      <td>8.435</td>\n",
       "      <td>7.8</td>\n",
       "    </tr>\n",
       "    <tr>\n",
       "      <th>3</th>\n",
       "      <td>tm83884</td>\n",
       "      <td>His Girl Friday</td>\n",
       "      <td>MOVIE</td>\n",
       "      <td>Hildy, the journalist former wife of newspaper...</td>\n",
       "      <td>1940</td>\n",
       "      <td>92</td>\n",
       "      <td>['comedy', 'drama', 'romance']</td>\n",
       "      <td>['US']</td>\n",
       "      <td>tt0032599</td>\n",
       "      <td>7.8</td>\n",
       "      <td>57835.0</td>\n",
       "      <td>11.270</td>\n",
       "      <td>7.4</td>\n",
       "    </tr>\n",
       "    <tr>\n",
       "      <th>4</th>\n",
       "      <td>tm56584</td>\n",
       "      <td>In a Lonely Place</td>\n",
       "      <td>MOVIE</td>\n",
       "      <td>An aspiring actress begins to suspect that her...</td>\n",
       "      <td>1950</td>\n",
       "      <td>94</td>\n",
       "      <td>['thriller', 'drama', 'romance']</td>\n",
       "      <td>['US']</td>\n",
       "      <td>tt0042593</td>\n",
       "      <td>7.9</td>\n",
       "      <td>30924.0</td>\n",
       "      <td>8.273</td>\n",
       "      <td>7.6</td>\n",
       "    </tr>\n",
       "  </tbody>\n",
       "</table>\n",
       "</div>"
      ],
      "text/plain": [
       "        id                        title   type  \\\n",
       "0  ts20945            The Three Stooges   SHOW   \n",
       "1  tm19248                  The General  MOVIE   \n",
       "2  tm82253  The Best Years of Our Lives  MOVIE   \n",
       "3  tm83884              His Girl Friday  MOVIE   \n",
       "4  tm56584            In a Lonely Place  MOVIE   \n",
       "\n",
       "                                         description  release_year  runtime  \\\n",
       "0  The Three Stooges were an American vaudeville ...          1934       19   \n",
       "1  During America’s Civil War, Union spies steal ...          1926       78   \n",
       "2  It's the hope that sustains the spirit of ever...          1946      171   \n",
       "3  Hildy, the journalist former wife of newspaper...          1940       92   \n",
       "4  An aspiring actress begins to suspect that her...          1950       94   \n",
       "\n",
       "                                              genres production_countries  \\\n",
       "0  ['comedy', 'family', 'animation', 'action', 'f...               ['US']   \n",
       "1  ['action', 'drama', 'war', 'western', 'comedy'...               ['US']   \n",
       "2                        ['romance', 'war', 'drama']               ['US']   \n",
       "3                     ['comedy', 'drama', 'romance']               ['US']   \n",
       "4                   ['thriller', 'drama', 'romance']               ['US']   \n",
       "\n",
       "     imdb_id  imdb_score  imdb_votes  tmdb_popularity  tmdb_score  \n",
       "0  tt0850645         8.6      1092.0           15.424         7.6  \n",
       "1  tt0017925         8.2     89766.0            8.647         8.0  \n",
       "2  tt0036868         8.1     63026.0            8.435         7.8  \n",
       "3  tt0032599         7.8     57835.0           11.270         7.4  \n",
       "4  tt0042593         7.9     30924.0            8.273         7.6  "
      ]
     },
     "execution_count": 23,
     "metadata": {},
     "output_type": "execute_result"
    }
   ],
   "source": [
    "title_df.head()"
   ]
  },
  {
   "cell_type": "code",
   "execution_count": 25,
   "id": "a2e18224",
   "metadata": {},
   "outputs": [
    {
     "data": {
      "text/plain": [
       "array([\"['US']\", \"['GB']\", \"['MX', 'US']\", \"['GB', 'CA']\", \"['DE', 'US']\",\n",
       "       \"['SU']\", '[]', \"['IN']\", \"['CA', 'US']\", \"['MX']\", \"['XX']\",\n",
       "       \"['US', 'IT']\", \"['JP']\", \"['IT', 'FR']\", \"['HK']\",\n",
       "       \"['FR', 'DE', 'IT']\", \"['ES', 'IT']\", \"['GB', 'US']\",\n",
       "       \"['IL', 'US']\", \"['US', 'FR', 'IT']\", \"['IT']\",\n",
       "       \"['IT', 'GB', 'US']\", \"['GB', 'US', 'IT', 'MX', 'ES']\",\n",
       "       \"['AU', 'US']\", \"['CH', 'GB']\", \"['CA', 'FR']\", \"['US', 'IE']\",\n",
       "       \"['GB', 'IT']\", \"['IT', 'US']\", \"['FR']\", \"['GR', 'US']\", \"['DE']\",\n",
       "       \"['HK', 'US', 'CN']\", \"['US', 'ES']\", \"['PH', 'US']\",\n",
       "       \"['NL', 'US']\", \"['FR', 'US']\", \"['IT', 'YU']\",\n",
       "       \"['FR', 'DE', 'CH', 'CI']\", \"['PR', 'US']\", \"['US', 'PH']\",\n",
       "       \"['YU', 'US']\", \"['IT', 'MX']\", \"['IT', 'ES', 'DE', 'LI']\",\n",
       "       \"['US', 'CA']\", \"['US', 'GB']\", \"['US', 'DE']\",\n",
       "       \"['US', 'IT', 'FR']\", \"['CA']\", \"['FR', 'GB']\", \"['JP', 'KR']\",\n",
       "       \"['GR']\", \"['ES']\", \"['US', 'JP']\", \"['SU', 'US']\", \"['FR', 'DE']\",\n",
       "       \"['FR', 'IT']\", \"['DE', 'IT']\", \"['XC', 'DE', 'HU', 'YU']\",\n",
       "       \"['DE', 'CH']\", \"['YU']\", \"['YU', 'FR', 'DE', 'IT']\",\n",
       "       \"['DE', 'ES', 'IT']\", \"['US', 'MX']\", \"['TW', 'HK']\", \"['IL']\",\n",
       "       \"['IT', 'ES', 'DE']\", \"['US', 'KR']\", \"['IT', 'FR', 'ES']\",\n",
       "       \"['ES', 'US']\", \"['ES', 'GB']\", \"['AN', 'US']\", \"['PH']\",\n",
       "       \"['ES', 'DE', 'IT', 'MC']\", \"['IT', 'ES']\", \"['CA', 'MX']\",\n",
       "       \"['IT', 'CA']\", \"['PH', 'CO', 'US', 'ES']\", \"['DE', 'GB']\",\n",
       "       \"['IT', 'FR', 'DE']\", \"['HK', 'KR']\", \"['RO']\", \"['EG']\", \"['AU']\",\n",
       "       \"['JP', 'US']\", \"['US', 'YU']\", \"['US', 'FR']\", \"['PH', 'AU']\",\n",
       "       \"['FR', 'LI', 'CH']\", \"['FR', 'TR', 'GB']\", \"['HK', 'CN']\",\n",
       "       \"['IT', 'DE']\", \"['AU', 'GB']\", \"['BE', 'NL']\", \"['ZA']\", \"['KR']\",\n",
       "       \"['PT']\", \"['FR', 'PT']\", \"['DE', 'US', 'CL']\", \"['SE', 'US']\",\n",
       "       \"['DE', 'IL']\", \"['PH', 'IT']\", \"['US', 'GR']\",\n",
       "       \"['MX', 'US', 'IT']\", \"['BR', 'FR']\", \"['DK', 'DE', 'FR', 'IT']\",\n",
       "       \"['NZ']\", \"['US', 'FR', 'GB']\", \"['US', 'AU']\", \"['CN', 'US']\",\n",
       "       \"['IT', 'NL', 'RU', 'GB', 'FR']\", \"['DK']\", \"['US', 'HK']\",\n",
       "       \"['ES', 'FR', 'DE']\", \"['CA', 'DE']\", \"['US', 'BE', 'CA', 'FR']\",\n",
       "       \"['FR', 'IE', 'GB', 'DE']\", \"['US', 'LU']\", \"['US', 'IE', 'GB']\",\n",
       "       \"['US', 'CZ']\", \"['RU', 'GB']\", \"['FR', 'GB', 'US', 'CA']\",\n",
       "       \"['FR', 'BE', 'LU']\", \"['FI', 'FR', 'GB']\", \"['US', 'AU', 'CA']\",\n",
       "       \"['FR', 'IT', 'BE']\", \"['BE', 'NL', 'AU']\", \"['GB', 'US', 'CA']\",\n",
       "       \"['US', 'CA', 'GB']\", \"['ZA', 'GB']\", \"['GB', 'IL']\",\n",
       "       \"['CA', 'GB', 'US']\", \"['CA', 'US', 'GB']\",\n",
       "       \"['DE', 'FR', 'DK', 'GB']\", \"['GB', 'IN']\", \"['AT']\", \"['SE']\",\n",
       "       \"['GB', 'US', 'IE']\", \"['IE', 'GB']\", \"['DE', 'HU', 'FR', 'GB']\",\n",
       "       \"['RU', 'US']\", \"['SK', 'ES', 'GB', 'AR']\", \"['XC']\", \"['VE']\",\n",
       "       \"['DE', 'GB', 'US']\", \"['FR', 'GB', 'US']\",\n",
       "       \"['ZA', 'US', 'NZ', 'CA']\", \"['AU', 'GB', 'US']\",\n",
       "       \"['GB', 'US', 'FR', 'ES']\", \"['US', 'GB', 'NZ']\",\n",
       "       \"['DE', 'SE', 'DK']\", \"['US', 'GB', 'DE']\", \"['TH']\",\n",
       "       \"['FR', 'LU', 'BE']\", \"['US', 'AU', 'GB']\", \"['GB', 'JP']\",\n",
       "       \"['GB', 'FR']\", \"['CN', 'HK']\", \"['JP', 'US', 'NZ', 'CH']\",\n",
       "       \"['SE', 'DK', 'DE']\", \"['US', 'PL', 'AE']\", \"['MX', 'ES']\",\n",
       "       \"['IN', 'US']\", \"['GB', 'DK']\", \"['US', 'FR', 'IL']\",\n",
       "       \"['GB', 'IE']\", \"['IT', 'CA', 'FR']\",\n",
       "       \"['IT', 'GB', 'SI', 'BE', 'BA', 'FR']\", \"['US', 'DE', 'JP']\",\n",
       "       \"['CN']\", \"['ID']\", \"['US', 'FR', 'IT', 'LU']\", \"['NO']\",\n",
       "       \"['US', 'PL', 'RU']\", \"['RO', 'DE', 'FR', 'GB']\",\n",
       "       \"['CA', 'US', 'DK', 'JP']\", \"['GB', 'NO', 'PL']\", \"['RU']\",\n",
       "       \"['CA', 'AU', 'US']\", \"['IE', 'NL', 'JP', 'AF', 'IR']\",\n",
       "       \"['FR', 'SE']\", \"['FR', 'BE']\", \"['DK', 'FR', 'GB', 'US', 'CA']\",\n",
       "       \"['IT', 'RO', 'GB', 'US', 'FR', 'DE']\", \"['GB', 'CA', 'DE', 'ZA']\",\n",
       "       \"['IS', 'GB', 'US', 'AU', 'CA']\", \"['CA', 'GR']\",\n",
       "       \"['US', 'CA', 'DE']\", \"['GB', 'US', 'DE']\",\n",
       "       \"['ES', 'BE', 'FR', 'DE', 'IT']\", \"['US', 'CA', 'NL']\",\n",
       "       \"['BE', 'FR']\", \"['GB', 'US', 'CN', 'DE', 'RU']\", \"['NO', 'GB']\",\n",
       "       \"['AR', 'US']\", \"['BG', 'DE', 'US']\", \"['JM', 'US']\", \"['IE']\",\n",
       "       \"['FR', 'GB', 'CA', 'DE']\", \"['US', 'IN']\",\n",
       "       \"['DE', 'FR', 'GB', 'US']\", \"['BR']\", \"['RS']\", \"['NL']\",\n",
       "       \"['CA', 'IN']\", \"['US', 'HU']\", \"['LU', 'FR']\", \"['KR', 'HK']\",\n",
       "       \"['AT', 'DE']\", \"['IL', 'SE']\", \"['GB', 'US', 'RO']\",\n",
       "       \"['RO', 'GB', 'US']\", \"['KR', 'JP']\", \"['US', 'RU']\", \"['JM']\",\n",
       "       \"['CL', 'US']\", \"['SZ', 'FR', 'ZA', 'GB']\", \"['GR', 'FR', 'IT']\",\n",
       "       \"['GB', 'ZA']\", \"['TW']\", \"['CA', 'GB']\", \"['US', 'IL']\",\n",
       "       \"['US', 'LT']\", \"['GB', 'ES']\", \"['PL', 'IL']\",\n",
       "       \"['PL', 'SK', 'CZ']\", \"['FR', 'US', 'DE']\", \"['TC']\", \"['SG']\",\n",
       "       \"['CZ', 'SK']\", \"['FI']\", \"['UY', 'VE', 'CL', 'ES']\", \"['BE']\",\n",
       "       \"['MX', 'BO']\", \"['UA']\", \"['ES', 'VE', 'AR']\", \"['HU']\",\n",
       "       \"['PT', 'CA', 'FR', 'IT']\", \"['DK', 'US']\", \"['DE', 'AU', 'FI']\",\n",
       "       \"['BO', 'FR', 'ES', 'GB']\", \"['FR', 'GB', 'AT', 'BR']\",\n",
       "       \"['AU', 'DE', 'GB']\", \"['FR', 'CA']\", \"['MY', 'SG']\",\n",
       "       \"['IT', 'GB']\", \"['AT', 'GB', 'US']\", \"['US', 'FR', 'BE']\",\n",
       "       \"['ZA', 'CA']\", \"['TR', 'HK', 'IN', 'IE']\",\n",
       "       \"['TN', 'FR', 'IT', 'QA']\", \"['DE', 'IN']\", \"['FR', 'MX', 'BE']\",\n",
       "       \"['IL', 'PH', 'ES']\", \"['AU', 'CN']\", \"['AF', 'US']\", \"['AR']\",\n",
       "       \"['NG', 'US']\", \"['FR', 'CA', 'US']\", \"['CA', 'CH']\",\n",
       "       \"['CN', 'TH']\", \"['FR', 'KZ', 'RU', 'BE', 'DE']\", \"['SG', 'US']\",\n",
       "       \"['CZ']\", \"['IN', 'US', 'AE']\", \"['IE', 'CA']\",\n",
       "       \"['PL', 'GB', 'DK', 'FR']\", \"['AU', 'UA']\", \"['US', 'AT']\",\n",
       "       \"['LT', 'PL']\", \"['GB', 'ZA', 'DE', 'CA']\",\n",
       "       \"['IS', 'NO', 'GB', 'US']\", \"['SE', 'GB', 'FR']\", \"['ID', 'US']\",\n",
       "       \"['US', 'GB', 'CA']\", \"['CN', 'FR', 'US']\", \"['DE', 'IL', 'FR']\",\n",
       "       \"['RU', 'UA', 'CZ', 'GB', 'DE']\", \"['ZA', 'US']\",\n",
       "       \"['NL', 'ZA', 'GQ']\", \"['NG', 'GB']\", \"['DE', 'AU']\",\n",
       "       \"['CA', 'MT']\", \"['CH', 'IN']\", \"['SO', 'US', 'KE']\",\n",
       "       \"['FI', 'CA']\", \"['ES', 'BE', 'GB']\", \"['GB', 'US', 'CA', 'ES']\",\n",
       "       \"['CH']\", \"['IN', 'CA']\", \"['US', 'CO']\", \"['US', 'GB', 'PL']\",\n",
       "       \"['United States of America']\", \"['NG']\", \"['KR', 'MX']\",\n",
       "       \"['MA', 'RO', 'AE', 'GB']\", \"['ES', 'FR', 'IE']\", \"['TR']\",\n",
       "       \"['VN']\", \"['IL', 'NO', 'ZA', 'AE', 'GB', 'IS', 'IE']\",\n",
       "       \"['CA', 'JP']\", \"['GB', 'IN', 'US']\", \"['CZ', 'DE', 'SK']\",\n",
       "       \"['MX', 'NO', 'BO']\", \"['FR', 'MA']\", \"['CN', 'GB']\",\n",
       "       \"['BD', 'IN']\", \"['PR']\", \"['BE', 'US']\", \"['NZ', 'FJ']\",\n",
       "       \"['MX', 'TW', 'US']\", \"['US', 'DK', 'FR']\", \"['GB', 'BE', 'US']\",\n",
       "       \"['SE', 'NO']\", \"['FR', 'GB', 'US', 'IE', 'NL']\",\n",
       "       \"['FR', 'US', 'GB', 'CZ']\", \"['DE', 'US', 'FR']\", \"['FR', 'IR']\",\n",
       "       \"['SE', 'GB', 'BE']\", \"['SE', 'DK', 'HU', 'IE', 'NO']\",\n",
       "       \"['GB', 'US', 'IL']\", \"['FR', 'PL']\", \"['NL', 'SE', 'DK']\",\n",
       "       \"['SE', 'CA', 'FI', 'FR', 'DE']\", \"['MN', 'US']\", \"['HK', 'US']\",\n",
       "       \"['GB', 'SG']\", \"['FR', 'US', 'CA']\", \"['CL']\", \"['KE', 'US']\",\n",
       "       \"['US', 'RO']\", \"['BE', 'FR', 'LU']\", \"['CA', 'IL']\",\n",
       "       \"['JP', 'GB']\", \"['US', 'MA', 'ES', 'GB']\", \"['ES', 'GB', 'FR']\",\n",
       "       \"['FR', 'CL', 'CA']\", \"['UG', 'DE', 'US', 'GB']\", \"['SE', 'DK']\",\n",
       "       \"['GB', 'AR']\", \"['TT', 'US']\", \"['PL']\", \"['GB', 'US', 'FR']\",\n",
       "       \"['PK']\", \"['XK']\", \"['MY']\", \"['PE']\", \"['DO']\", \"['IN', 'RS']\",\n",
       "       \"['FR', 'DE', 'ES', 'US']\", \"['FR', 'PL', 'GB']\",\n",
       "       \"['GB', 'CZ', 'AE']\", \"['CO', 'GB', 'AU']\", \"['SE', 'IN']\",\n",
       "       \"['JP', 'CN', 'FR']\", \"['EG', 'GB']\", \"['NZ', 'GB']\",\n",
       "       \"['CN', 'HK', 'MA']\", \"['ES', 'CA']\", \"['SV', 'US']\",\n",
       "       \"['HU', 'US']\", \"['ES', 'US', 'MX']\", \"['TH', 'US']\",\n",
       "       \"['AU', 'AE', 'GB', 'ID']\", \"['CH', 'BE', 'GE', 'FR']\",\n",
       "       \"['FR', 'IL', 'LU', 'PS', 'BE']\", \"['GB', 'DE']\",\n",
       "       \"['CH', 'AE', 'US', 'HK', 'MX', 'MA']\", \"['HR', 'DK', 'FI', 'US']\",\n",
       "       \"['AU', 'DE']\", \"['HK', 'CN', 'CZ']\", \"['FR', 'MA', 'BE']\",\n",
       "       \"['NZ', 'US']\", \"['LV', 'GB']\", \"['AR', 'US', 'AQ']\", \"['LB']\",\n",
       "       \"['NL', 'BE']\", \"['KH']\", \"['CH', 'US', 'IT', 'CA', 'FR']\",\n",
       "       \"['US', 'SE']\", \"['CO']\", \"['US', 'ID']\", \"['CR']\",\n",
       "       \"['US', 'IL', 'TR']\", \"['IS']\", \"['NO', 'US', 'PL']\",\n",
       "       \"['DE', 'AT']\", \"['CA', 'AU']\", \"['DK', 'SE', 'US']\",\n",
       "       \"['US', 'AF']\", \"['FR', 'AF']\", \"['ES', 'FR']\", \"['SK', 'CZ']\",\n",
       "       \"['IR']\", \"['LB', 'US']\", \"['BM']\", \"['JO', 'GB', 'IR']\", \"['PA']\",\n",
       "       \"['AL', 'CY', 'GR']\", \"['MN']\", \"['FR', 'IL']\", \"['US', 'VN']\",\n",
       "       \"['CZ', 'PL', 'SK']\", \"['MX', 'US', 'CL']\", \"['AF']\",\n",
       "       \"['XK', 'NL']\", \"['BE', 'LU']\", \"['IL', 'ES']\", \"['BR', 'IN']\",\n",
       "       \"['GB', 'DE', 'NZ']\", \"['DK', 'IE', 'BE']\", \"['HU', 'US', 'GB']\",\n",
       "       \"['FR', 'LU', 'ES']\", \"['CA', 'IE', 'US']\", \"['GB', 'IT', 'FR']\",\n",
       "       \"['US', 'SE', 'GB', 'IE']\", \"['GB', 'US', 'IE', 'ES']\",\n",
       "       \"['NZ', 'CA', 'IE']\", \"['DE', 'FR']\", \"['GB', 'BE']\",\n",
       "       \"['CN', 'DK', 'US', 'AU']\", \"['GB', 'NO', 'US']\",\n",
       "       \"['FR', 'GE', 'SE']\", \"['FI', 'DE']\", \"['CN', 'FR', 'GB']\",\n",
       "       \"['US', 'AL', 'GE', 'XK']\", \"['CA', 'IE']\", \"['US', 'CU']\",\n",
       "       \"['BE', 'GB']\", \"['DE', 'NL', 'PL']\", \"['PY']\", \"['CH', 'US']\",\n",
       "       \"['RO', 'ES', 'EE', 'ET', 'LV']\", \"['BE', 'FR', 'IE', 'LU']\",\n",
       "       \"['GB', 'FR', 'DE']\", \"['US', 'NO', 'GB']\", \"['UA', 'US']\",\n",
       "       \"['DE', 'BR']\", \"['NL', 'AR', 'BR', 'QA', 'CL']\", \"['GB', 'NL']\",\n",
       "       \"['US', 'AU', 'CN', 'DK']\", \"['ES', 'CN']\", \"['BE', 'FR', 'US']\",\n",
       "       \"['PS', 'QA']\", \"['CH', 'FR', 'DE']\", \"['EG', 'AE', 'GB']\",\n",
       "       \"['DE', 'US', 'IN']\", \"['IE', 'NL', 'GB', 'BE']\",\n",
       "       \"['US', 'CA', 'KR', 'IT', 'GB']\", \"['US', 'CN']\",\n",
       "       \"['DE', 'SG', 'GB']\", \"['ES', 'AR']\", \"['FR', 'IE']\",\n",
       "       \"['PL', 'LU', 'IT']\", \"['AR', 'UY']\", \"['DE', 'SK']\",\n",
       "       \"['DE', 'JP']\", \"['NO', 'SE']\", \"['KR', 'US']\",\n",
       "       \"['SI', 'BA', 'HR', 'CZ', 'LU', 'NO', 'SK']\",\n",
       "       \"['PF', 'US', 'CA', 'FJ']\", \"['MX', 'EC', 'ES']\", \"['CA', 'TT']\",\n",
       "       \"['IO']\", \"['SK', 'IE']\", \"['US', 'PA']\", \"['RU', 'AM']\",\n",
       "       \"['CU', 'GB']\", \"['EG', 'LU', 'BE']\", \"['SY']\", \"['CM', 'GB']\",\n",
       "       \"['DE', 'RU', 'US']\", \"['AU', 'CA', 'GB']\", \"['DE', 'JO', 'SE']\",\n",
       "       \"['SK']\", \"['EE']\", \"['IN', 'GB', 'US']\", \"['US', 'CA', 'JP']\",\n",
       "       \"['FR', 'DE', 'GR', 'JP', 'MX', 'CH', 'BE', 'CA']\", \"['GB', 'MX']\",\n",
       "       \"['BE', 'EE', 'RS', 'SE', 'GB']\", \"['BG', 'US']\", \"['IE', 'US']\",\n",
       "       \"['SK', 'CZ', 'DE']\", \"['IN', 'RU', 'GB']\",\n",
       "       \"['DE', 'PS', 'PT', 'QA', 'FR']\", \"['UY']\", \"['UY', 'AR']\",\n",
       "       \"['KZ']\", \"['RU', 'UA', 'US']\", \"['GB', 'NO']\", \"['CO', 'ES']\",\n",
       "       \"['ZA', 'LY']\", \"['RS', 'GB']\", \"['IT', 'RO', 'US']\",\n",
       "       \"['CZ', 'FR']\", \"['US', 'PR']\"], dtype=object)"
      ]
     },
     "execution_count": 25,
     "metadata": {},
     "output_type": "execute_result"
    }
   ],
   "source": [
    "title_df['production_countries'].unique()"
   ]
  },
  {
   "cell_type": "code",
   "execution_count": 29,
   "id": "305df0de",
   "metadata": {},
   "outputs": [],
   "source": [
    "title_df['production_countries1'] = title_df['production_countries'].str[2:4]\n",
    "for i in range(len(title_df['production_countries'])):\n",
    "    if title_df['production_countries'][i] == '':\n",
    "        title_df['production_countries1'][i] = 'Unknown'"
   ]
  },
  {
   "cell_type": "code",
   "execution_count": 35,
   "id": "7656b6a2",
   "metadata": {},
   "outputs": [
    {
     "data": {
      "text/html": [
       "<div>\n",
       "<style scoped>\n",
       "    .dataframe tbody tr th:only-of-type {\n",
       "        vertical-align: middle;\n",
       "    }\n",
       "\n",
       "    .dataframe tbody tr th {\n",
       "        vertical-align: top;\n",
       "    }\n",
       "\n",
       "    .dataframe thead th {\n",
       "        text-align: right;\n",
       "    }\n",
       "</style>\n",
       "<table border=\"1\" class=\"dataframe\">\n",
       "  <thead>\n",
       "    <tr style=\"text-align: right;\">\n",
       "      <th></th>\n",
       "      <th>id</th>\n",
       "      <th>title</th>\n",
       "      <th>type</th>\n",
       "      <th>description</th>\n",
       "      <th>release_year</th>\n",
       "      <th>runtime</th>\n",
       "      <th>genres</th>\n",
       "      <th>production_countries</th>\n",
       "      <th>imdb_id</th>\n",
       "      <th>imdb_score</th>\n",
       "      <th>imdb_votes</th>\n",
       "      <th>tmdb_popularity</th>\n",
       "      <th>tmdb_score</th>\n",
       "      <th>production_countries1</th>\n",
       "    </tr>\n",
       "  </thead>\n",
       "  <tbody>\n",
       "    <tr>\n",
       "      <th>8294</th>\n",
       "      <td>ts225989</td>\n",
       "      <td>Hey Sensei, Don't you know?</td>\n",
       "      <td>SHOW</td>\n",
       "      <td>A love story between a comic artist with no ex...</td>\n",
       "      <td>2019</td>\n",
       "      <td>24</td>\n",
       "      <td>['drama', 'romance']</td>\n",
       "      <td>kn</td>\n",
       "      <td>tt12093584</td>\n",
       "      <td>6.3</td>\n",
       "      <td>113.0</td>\n",
       "      <td>3.629</td>\n",
       "      <td>5.0</td>\n",
       "      <td></td>\n",
       "    </tr>\n",
       "    <tr>\n",
       "      <th>8781</th>\n",
       "      <td>tm516036</td>\n",
       "      <td>Katha Sangama</td>\n",
       "      <td>MOVIE</td>\n",
       "      <td>Katha Sangama is an upcoming Indian anthology ...</td>\n",
       "      <td>2019</td>\n",
       "      <td>156</td>\n",
       "      <td>['thriller', 'drama', 'family', 'fantasy']</td>\n",
       "      <td>kn</td>\n",
       "      <td>tt7315232</td>\n",
       "      <td>7.4</td>\n",
       "      <td>312.0</td>\n",
       "      <td>1.960</td>\n",
       "      <td>5.0</td>\n",
       "      <td></td>\n",
       "    </tr>\n",
       "    <tr>\n",
       "      <th>1574</th>\n",
       "      <td>tm261607</td>\n",
       "      <td>Brother, Cry For Me</td>\n",
       "      <td>MOVIE</td>\n",
       "      <td>Three estranged brothers receive a mysterious ...</td>\n",
       "      <td>1970</td>\n",
       "      <td>92</td>\n",
       "      <td>['crime']</td>\n",
       "      <td>kn</td>\n",
       "      <td>tt0212004</td>\n",
       "      <td>4.9</td>\n",
       "      <td>24.0</td>\n",
       "      <td>0.881</td>\n",
       "      <td>6.0</td>\n",
       "      <td></td>\n",
       "    </tr>\n",
       "    <tr>\n",
       "      <th>3360</th>\n",
       "      <td>tm39398</td>\n",
       "      <td>The Hive</td>\n",
       "      <td>MOVIE</td>\n",
       "      <td>When ants, displaying never-before-seen behavi...</td>\n",
       "      <td>2008</td>\n",
       "      <td>90</td>\n",
       "      <td>['scifi', 'horror', 'thriller', 'action']</td>\n",
       "      <td>kn</td>\n",
       "      <td>tt1062161</td>\n",
       "      <td>3.2</td>\n",
       "      <td>1761.0</td>\n",
       "      <td>3.513</td>\n",
       "      <td>4.2</td>\n",
       "      <td></td>\n",
       "    </tr>\n",
       "    <tr>\n",
       "      <th>3066</th>\n",
       "      <td>tm85533</td>\n",
       "      <td>King Naresuan 2</td>\n",
       "      <td>MOVIE</td>\n",
       "      <td>Prince Naresuan is now the crown prince of Ayu...</td>\n",
       "      <td>2007</td>\n",
       "      <td>165</td>\n",
       "      <td>['drama', 'history', 'war', 'action']</td>\n",
       "      <td>kn</td>\n",
       "      <td>tt0975744</td>\n",
       "      <td>7.2</td>\n",
       "      <td>413.0</td>\n",
       "      <td>4.010</td>\n",
       "      <td>6.3</td>\n",
       "      <td></td>\n",
       "    </tr>\n",
       "  </tbody>\n",
       "</table>\n",
       "</div>"
      ],
      "text/plain": [
       "            id                        title   type  \\\n",
       "8294  ts225989  Hey Sensei, Don't you know?   SHOW   \n",
       "8781  tm516036                Katha Sangama  MOVIE   \n",
       "1574  tm261607          Brother, Cry For Me  MOVIE   \n",
       "3360   tm39398                     The Hive  MOVIE   \n",
       "3066   tm85533              King Naresuan 2  MOVIE   \n",
       "\n",
       "                                            description  release_year  \\\n",
       "8294  A love story between a comic artist with no ex...          2019   \n",
       "8781  Katha Sangama is an upcoming Indian anthology ...          2019   \n",
       "1574  Three estranged brothers receive a mysterious ...          1970   \n",
       "3360  When ants, displaying never-before-seen behavi...          2008   \n",
       "3066  Prince Naresuan is now the crown prince of Ayu...          2007   \n",
       "\n",
       "      runtime                                      genres  \\\n",
       "8294       24                        ['drama', 'romance']   \n",
       "8781      156  ['thriller', 'drama', 'family', 'fantasy']   \n",
       "1574       92                                   ['crime']   \n",
       "3360       90   ['scifi', 'horror', 'thriller', 'action']   \n",
       "3066      165       ['drama', 'history', 'war', 'action']   \n",
       "\n",
       "     production_countries     imdb_id  imdb_score  imdb_votes  \\\n",
       "8294                   kn  tt12093584         6.3       113.0   \n",
       "8781                   kn   tt7315232         7.4       312.0   \n",
       "1574                   kn   tt0212004         4.9        24.0   \n",
       "3360                   kn   tt1062161         3.2      1761.0   \n",
       "3066                   kn   tt0975744         7.2       413.0   \n",
       "\n",
       "      tmdb_popularity  tmdb_score production_countries1  \n",
       "8294            3.629         5.0                        \n",
       "8781            1.960         5.0                        \n",
       "1574            0.881         6.0                        \n",
       "3360            3.513         4.2                        \n",
       "3066            4.010         6.3                        "
      ]
     },
     "execution_count": 35,
     "metadata": {},
     "output_type": "execute_result"
    }
   ],
   "source": [
    "title_df.sample(5)"
   ]
  },
  {
   "cell_type": "markdown",
   "id": "d9044e61",
   "metadata": {},
   "source": [
    "EDA Visulizations:"
   ]
  },
  {
   "cell_type": "code",
   "execution_count": null,
   "id": "183e6688",
   "metadata": {},
   "outputs": [],
   "source": [
    "#Title DF Viz."
   ]
  },
  {
   "cell_type": "code",
   "execution_count": 62,
   "id": "5501af45",
   "metadata": {},
   "outputs": [
    {
     "data": {
      "text/plain": [
       "Text(0.5, 1.0, 'Movies released each year')"
      ]
     },
     "execution_count": 62,
     "metadata": {},
     "output_type": "execute_result"
    },
    {
     "data": {
      "image/png": "[encoded data removed]",
      "text/plain": [
       "<Figure size 720x1152 with 1 Axes>"
      ]
     },
     "metadata": {},
     "output_type": "display_data"
    }
   ],
   "source": [
    "#Let's visulalixe no.of movies released year wise .\n",
    "plt.figure(figsize=(10,16))\n",
    "sns.countplot(y='release_year',data=title_df)\n",
    "plt.title('Movies released each year')"
   ]
  },
  {
   "cell_type": "code",
   "execution_count": 68,
   "id": "a5e905fb",
   "metadata": {},
   "outputs": [
    {
     "data": {
      "text/plain": [
       "Text(0.5, 1.0, 'Movies released each year')"
      ]
     },
     "execution_count": 68,
     "metadata": {},
     "output_type": "execute_result"
    },
    {
     "data": {
      "image/png": "[encoded data removed]",
      "text/plain": [
       "<Figure size 720x1152 with 1 Axes>"
      ]
     },
     "metadata": {},
     "output_type": "display_data"
    }
   ],
   "source": [
    "#Let's visulalixe no.of movies released in the last 20 yrs .\n",
    "plt.figure(figsize=(10,16))\n",
    "sns.countplot(x='release_year',order=title_df['release_year'].value_counts().index[:20],data=title_df)\n",
    "plt.title('Movies released each year')"
   ]
  },
  {
   "cell_type": "code",
   "execution_count": 72,
   "id": "965ef8b4",
   "metadata": {},
   "outputs": [
    {
     "data": {
      "text/plain": [
       "Text(0.5, 1.0, 'Movies Vs Shows')"
      ]
     },
     "execution_count": 72,
     "metadata": {},
     "output_type": "execute_result"
    },
    {
     "data": {
      "image/png": "[encoded data removed]",
      "text/plain": [
       "<Figure size 720x1152 with 1 Axes>"
      ]
     },
     "metadata": {},
     "output_type": "display_data"
    }
   ],
   "source": [
    "plt.figure(figsize=(10,16))\n",
    "sns.countplot(x='type',data=title_df)\n",
    "plt.title('Movies Vs Shows')"
   ]
  },
  {
   "cell_type": "code",
   "execution_count": 73,
   "id": "29ba8940",
   "metadata": {},
   "outputs": [
    {
     "data": {
      "text/plain": [
       "<AxesSubplot:title={'center':'Top Production Countries'}, xlabel='production_countries', ylabel='count'>"
      ]
     },
     "execution_count": 73,
     "metadata": {},
     "output_type": "execute_result"
    },
    {
     "data": {
      "image/png": "[encoded data removed]",
      "text/plain": [
       "<Figure size 720x576 with 1 Axes>"
      ]
     },
     "metadata": {},
     "output_type": "display_data"
    }
   ],
   "source": [
    "#Top Production Countries in which movies and TV shows were addded\n",
    "plt.figure(figsize = (10,8))\n",
    "plt.title('Top Production Countries')\n",
    "sns.countplot(x='production_countries', data = title_df,order = title_df['production_countries'].value_counts().index[:10] ,linewidth =5)"
   ]
  },
  {
   "cell_type": "code",
   "execution_count": 76,
   "id": "d995ef09",
   "metadata": {},
   "outputs": [
    {
     "data": {
      "image/png": "[encoded data removed]",
      "text/plain": [
       "<Figure size 864x432 with 1 Axes>"
      ]
     },
     "metadata": {},
     "output_type": "display_data"
    }
   ],
   "source": [
    "fig = plt.figure(figsize=(12,6))\n",
    "sns.countplot(data = title_df,y = 'production_countries', order = title_df[\"production_countries\"].value_counts().index[0:10],hue = 'type',palette = 'magma_r')\n",
    "plt.title(\"Top countries having most content\")\n",
    "plt.show()\n",
    "        "
   ]
  },
  {
   "cell_type": "code",
   "execution_count": 93,
   "id": "76cab1e5",
   "metadata": {},
   "outputs": [
    {
     "data": {
      "text/plain": [
       "<AxesSubplot:xlabel='type', ylabel='imdb_score'>"
      ]
     },
     "execution_count": 93,
     "metadata": {},
     "output_type": "execute_result"
    },
    {
     "data": {
      "image/png": "[encoded data removed]",
      "text/plain": [
       "<Figure size 720x720 with 1 Axes>"
      ]
     },
     "metadata": {},
     "output_type": "display_data"
    }
   ],
   "source": [
    "#TOP IMDB Scored movies\n",
    "plt.figure(figsize=(10,10))\n",
    "sns.boxplot(y='imdb_score',x='type',data=title_df)\n"
   ]
  },
  {
   "cell_type": "code",
   "execution_count": 95,
   "id": "76e1e4d7",
   "metadata": {},
   "outputs": [
    {
     "data": {
      "text/plain": [
       "(9871, 2)"
      ]
     },
     "execution_count": 95,
     "metadata": {},
     "output_type": "execute_result"
    }
   ],
   "source": [
    "df1=title_df[['title','imdb_score']]\n",
    "df1.shape"
   ]
  },
  {
   "cell_type": "code",
   "execution_count": 98,
   "id": "99c9af0d",
   "metadata": {},
   "outputs": [
    {
     "data": {
      "text/html": [
       "<div>\n",
       "<style scoped>\n",
       "    .dataframe tbody tr th:only-of-type {\n",
       "        vertical-align: middle;\n",
       "    }\n",
       "\n",
       "    .dataframe tbody tr th {\n",
       "        vertical-align: top;\n",
       "    }\n",
       "\n",
       "    .dataframe thead th {\n",
       "        text-align: right;\n",
       "    }\n",
       "</style>\n",
       "<table border=\"1\" class=\"dataframe\">\n",
       "  <thead>\n",
       "    <tr style=\"text-align: right;\">\n",
       "      <th></th>\n",
       "      <th>title</th>\n",
       "      <th>imdb_score</th>\n",
       "    </tr>\n",
       "  </thead>\n",
       "  <tbody>\n",
       "    <tr>\n",
       "      <th>0</th>\n",
       "      <td>The Three Stooges</td>\n",
       "      <td>8.6</td>\n",
       "    </tr>\n",
       "    <tr>\n",
       "      <th>1</th>\n",
       "      <td>The General</td>\n",
       "      <td>8.2</td>\n",
       "    </tr>\n",
       "    <tr>\n",
       "      <th>2</th>\n",
       "      <td>The Best Years of Our Lives</td>\n",
       "      <td>8.1</td>\n",
       "    </tr>\n",
       "    <tr>\n",
       "      <th>3</th>\n",
       "      <td>His Girl Friday</td>\n",
       "      <td>7.8</td>\n",
       "    </tr>\n",
       "    <tr>\n",
       "      <th>4</th>\n",
       "      <td>In a Lonely Place</td>\n",
       "      <td>7.9</td>\n",
       "    </tr>\n",
       "    <tr>\n",
       "      <th>...</th>\n",
       "      <td>...</td>\n",
       "      <td>...</td>\n",
       "    </tr>\n",
       "    <tr>\n",
       "      <th>9866</th>\n",
       "      <td>Lily Is Here</td>\n",
       "      <td>5.3</td>\n",
       "    </tr>\n",
       "    <tr>\n",
       "      <th>9867</th>\n",
       "      <td>Jay Nog: Something from Nothing</td>\n",
       "      <td>6.4</td>\n",
       "    </tr>\n",
       "    <tr>\n",
       "      <th>9868</th>\n",
       "      <td>Chasing</td>\n",
       "      <td>6.4</td>\n",
       "    </tr>\n",
       "    <tr>\n",
       "      <th>9869</th>\n",
       "      <td>Baikunth</td>\n",
       "      <td>8.4</td>\n",
       "    </tr>\n",
       "    <tr>\n",
       "      <th>9870</th>\n",
       "      <td>Waking Up Eighty</td>\n",
       "      <td>6.4</td>\n",
       "    </tr>\n",
       "  </tbody>\n",
       "</table>\n",
       "<p>9863 rows × 2 columns</p>\n",
       "</div>"
      ],
      "text/plain": [
       "                                title  imdb_score\n",
       "0                   The Three Stooges         8.6\n",
       "1                         The General         8.2\n",
       "2         The Best Years of Our Lives         8.1\n",
       "3                     His Girl Friday         7.8\n",
       "4                   In a Lonely Place         7.9\n",
       "...                               ...         ...\n",
       "9866                     Lily Is Here         5.3\n",
       "9867  Jay Nog: Something from Nothing         6.4\n",
       "9868                          Chasing         6.4\n",
       "9869                         Baikunth         8.4\n",
       "9870                 Waking Up Eighty         6.4\n",
       "\n",
       "[9863 rows x 2 columns]"
      ]
     },
     "execution_count": 98,
     "metadata": {},
     "output_type": "execute_result"
    }
   ],
   "source": [
    "df1.drop_duplicates()"
   ]
  },
  {
   "cell_type": "code",
   "execution_count": null,
   "id": "f223e5ad",
   "metadata": {},
   "outputs": [],
   "source": []
  },
  {
   "cell_type": "code",
   "execution_count": null,
   "id": "c4ead921",
   "metadata": {},
   "outputs": [],
   "source": []
  },
  {
   "cell_type": "code",
   "execution_count": null,
   "id": "4c37ce29",
   "metadata": {},
   "outputs": [],
   "source": []
  },
  {
   "cell_type": "code",
   "execution_count": null,
   "id": "b7aa490b",
   "metadata": {},
   "outputs": [],
   "source": []
  }
 ],
 "metadata": {
  "kernelspec": {
   "display_name": "Python 3 (ipykernel)",
   "language": "python",
   "name": "python3"
  },
  "language_info": {
   "codemirror_mode": {
    "name": "ipython",
    "version": 3
   },
   "file_extension": ".py",
   "mimetype": "text/x-python",
   "name": "python",
   "nbconvert_exporter": "python",
   "pygments_lexer": "ipython3",
   "version": "3.9.7"
  }
 },
 "nbformat": 4,
 "nbformat_minor": 5
}
